{
 "cells": [
  {
   "metadata": {},
   "cell_type": "markdown",
   "source": [
    "### Linear Regressionda o'rganganlarim\n",
    "\n",
    "1. Linear regression model types:\n",
    "- Linear Regression\n",
    "- Ridge\n",
    "- Lasso\n",
    "\n",
    "2. Hyperparameter tuning:\n",
    "- Ridge: alpha = 10 (1, 10, 100, ...)\n",
    "- Lasso: alpha = 0.01 (1, 0.1, 0.01, ...)\n",
    "\n",
    "3. Data preprocessing:\n",
    "- Min max scaler: x_scaled = (x-x_min)/(x_max-x_min)\n",
    "- Standard scaler: x_scaled = (x-mean)/std\n",
    "\n",
    "4. Data splitting:\n",
    "- Necha foizini testga berish\n",
    "- Qanday random value ishlatish"
   ],
   "id": "77cc9c3824522e95"
  },
  {
   "metadata": {},
   "cell_type": "code",
   "outputs": [],
   "execution_count": null,
   "source": "",
   "id": "f20378264c13b606"
  }
 ],
 "metadata": {
  "kernelspec": {
   "display_name": "Python 3",
   "language": "python",
   "name": "python3"
  },
  "language_info": {
   "codemirror_mode": {
    "name": "ipython",
    "version": 2
   },
   "file_extension": ".py",
   "mimetype": "text/x-python",
   "name": "python",
   "nbconvert_exporter": "python",
   "pygments_lexer": "ipython2",
   "version": "2.7.6"
  }
 },
 "nbformat": 4,
 "nbformat_minor": 5
}
