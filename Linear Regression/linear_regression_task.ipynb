{
 "cells": [
  {
   "cell_type": "code",
   "id": "initial_id",
   "metadata": {
    "collapsed": true,
    "ExecuteTime": {
     "end_time": "2024-07-12T12:08:44.715037Z",
     "start_time": "2024-07-12T12:08:41.679776Z"
    }
   },
   "source": [
    "import pandas as pd\n",
    "from sklearn.linear_model import Ridge, Lasso, LinearRegression\n",
    "from sklearn.preprocessing import MinMaxScaler, StandardScaler\n",
    "from sklearn.model_selection import train_test_split\n",
    "from sklearn.metrics import mean_absolute_error, mean_squared_error, r2_score\n",
    "\n",
    "data = pd.read_csv('datasets/student_scores.txt')\n",
    "data"
   ],
   "outputs": [
    {
     "data": {
      "text/plain": [
       "    Hours   Scores\n",
       "0     2.5       21\n",
       "1     5.1       47\n",
       "2     3.2       27\n",
       "3     8.5       75\n",
       "4     3.5       30\n",
       "5     1.5       20\n",
       "6     9.2       88\n",
       "7     5.5       60\n",
       "8     8.3       81\n",
       "9     2.7       25\n",
       "10    7.7       85\n",
       "11    5.9       62\n",
       "12    4.5       41\n",
       "13    3.3       42\n",
       "14    1.1       17\n",
       "15    8.9       95\n",
       "16    2.5       30\n",
       "17    1.9       24\n",
       "18    6.1       67\n",
       "19    7.4       69\n",
       "20    2.7       30\n",
       "21    4.8       54\n",
       "22    3.8       35\n",
       "23    6.9       76\n",
       "24    7.8       86"
      ],
      "text/html": [
       "<div>\n",
       "<style scoped>\n",
       "    .dataframe tbody tr th:only-of-type {\n",
       "        vertical-align: middle;\n",
       "    }\n",
       "\n",
       "    .dataframe tbody tr th {\n",
       "        vertical-align: top;\n",
       "    }\n",
       "\n",
       "    .dataframe thead th {\n",
       "        text-align: right;\n",
       "    }\n",
       "</style>\n",
       "<table border=\"1\" class=\"dataframe\">\n",
       "  <thead>\n",
       "    <tr style=\"text-align: right;\">\n",
       "      <th></th>\n",
       "      <th>Hours</th>\n",
       "      <th>Scores</th>\n",
       "    </tr>\n",
       "  </thead>\n",
       "  <tbody>\n",
       "    <tr>\n",
       "      <th>0</th>\n",
       "      <td>2.5</td>\n",
       "      <td>21</td>\n",
       "    </tr>\n",
       "    <tr>\n",
       "      <th>1</th>\n",
       "      <td>5.1</td>\n",
       "      <td>47</td>\n",
       "    </tr>\n",
       "    <tr>\n",
       "      <th>2</th>\n",
       "      <td>3.2</td>\n",
       "      <td>27</td>\n",
       "    </tr>\n",
       "    <tr>\n",
       "      <th>3</th>\n",
       "      <td>8.5</td>\n",
       "      <td>75</td>\n",
       "    </tr>\n",
       "    <tr>\n",
       "      <th>4</th>\n",
       "      <td>3.5</td>\n",
       "      <td>30</td>\n",
       "    </tr>\n",
       "    <tr>\n",
       "      <th>5</th>\n",
       "      <td>1.5</td>\n",
       "      <td>20</td>\n",
       "    </tr>\n",
       "    <tr>\n",
       "      <th>6</th>\n",
       "      <td>9.2</td>\n",
       "      <td>88</td>\n",
       "    </tr>\n",
       "    <tr>\n",
       "      <th>7</th>\n",
       "      <td>5.5</td>\n",
       "      <td>60</td>\n",
       "    </tr>\n",
       "    <tr>\n",
       "      <th>8</th>\n",
       "      <td>8.3</td>\n",
       "      <td>81</td>\n",
       "    </tr>\n",
       "    <tr>\n",
       "      <th>9</th>\n",
       "      <td>2.7</td>\n",
       "      <td>25</td>\n",
       "    </tr>\n",
       "    <tr>\n",
       "      <th>10</th>\n",
       "      <td>7.7</td>\n",
       "      <td>85</td>\n",
       "    </tr>\n",
       "    <tr>\n",
       "      <th>11</th>\n",
       "      <td>5.9</td>\n",
       "      <td>62</td>\n",
       "    </tr>\n",
       "    <tr>\n",
       "      <th>12</th>\n",
       "      <td>4.5</td>\n",
       "      <td>41</td>\n",
       "    </tr>\n",
       "    <tr>\n",
       "      <th>13</th>\n",
       "      <td>3.3</td>\n",
       "      <td>42</td>\n",
       "    </tr>\n",
       "    <tr>\n",
       "      <th>14</th>\n",
       "      <td>1.1</td>\n",
       "      <td>17</td>\n",
       "    </tr>\n",
       "    <tr>\n",
       "      <th>15</th>\n",
       "      <td>8.9</td>\n",
       "      <td>95</td>\n",
       "    </tr>\n",
       "    <tr>\n",
       "      <th>16</th>\n",
       "      <td>2.5</td>\n",
       "      <td>30</td>\n",
       "    </tr>\n",
       "    <tr>\n",
       "      <th>17</th>\n",
       "      <td>1.9</td>\n",
       "      <td>24</td>\n",
       "    </tr>\n",
       "    <tr>\n",
       "      <th>18</th>\n",
       "      <td>6.1</td>\n",
       "      <td>67</td>\n",
       "    </tr>\n",
       "    <tr>\n",
       "      <th>19</th>\n",
       "      <td>7.4</td>\n",
       "      <td>69</td>\n",
       "    </tr>\n",
       "    <tr>\n",
       "      <th>20</th>\n",
       "      <td>2.7</td>\n",
       "      <td>30</td>\n",
       "    </tr>\n",
       "    <tr>\n",
       "      <th>21</th>\n",
       "      <td>4.8</td>\n",
       "      <td>54</td>\n",
       "    </tr>\n",
       "    <tr>\n",
       "      <th>22</th>\n",
       "      <td>3.8</td>\n",
       "      <td>35</td>\n",
       "    </tr>\n",
       "    <tr>\n",
       "      <th>23</th>\n",
       "      <td>6.9</td>\n",
       "      <td>76</td>\n",
       "    </tr>\n",
       "    <tr>\n",
       "      <th>24</th>\n",
       "      <td>7.8</td>\n",
       "      <td>86</td>\n",
       "    </tr>\n",
       "  </tbody>\n",
       "</table>\n",
       "</div>"
      ]
     },
     "execution_count": 2,
     "metadata": {},
     "output_type": "execute_result"
    }
   ],
   "execution_count": 2
  },
  {
   "metadata": {
    "ExecuteTime": {
     "end_time": "2024-07-12T12:26:00.469775Z",
     "start_time": "2024-07-12T12:26:00.443541Z"
    }
   },
   "cell_type": "code",
   "source": [
    "X = data[['Hours']]\n",
    "y = data[' Scores']\n",
    "\n",
    "X_train, X_test, y_train, y_test = train_test_split(X, y, test_size=0.1, random_state=42)\n",
    "\n",
    "model = LinearRegression()\n",
    "model.fit(X_train, y_train)\n",
    "\n",
    "y_pred = model.predict(X_test)\n",
    "\n",
    "mse = mean_squared_error(y_test, y_pred)\n",
    "mae = mean_absolute_error(y_test, y_pred)\n",
    "r2 = r2_score(y_test, y_pred)\n",
    "\n",
    "print(\"Mean squared error: \", mse)\n",
    "print(\"Mean absolute error: \", mae)\n",
    "print(\"R2 Score: \", r2)"
   ],
   "id": "dc344079c237e557",
   "outputs": [
    {
     "name": "stdout",
     "output_type": "stream",
     "text": [
      "Mean squared error:  18.1151041578311\n",
      "Mean absolute error:  3.9657593887812084\n",
      "R2 Score:  0.974047128713709\n"
     ]
    }
   ],
   "execution_count": 39
  },
  {
   "metadata": {
    "ExecuteTime": {
     "end_time": "2024-07-12T12:25:57.012368Z",
     "start_time": "2024-07-12T12:25:56.989819Z"
    }
   },
   "cell_type": "code",
   "source": [
    "ridge_model = Ridge(alpha=10)\n",
    "ridge_model.fit(X_train, y_train)\n",
    "\n",
    "y_pred = ridge_model.predict(X_test)\n",
    "\n",
    "mse = mean_squared_error(y_test, y_pred)\n",
    "mae = mean_absolute_error(y_test, y_pred)\n",
    "r2 = r2_score(y_test, y_pred)\n",
    "\n",
    "print(\"Mean squared error: \", mse)\n",
    "print(\"Mean absolute error: \", mae)\n",
    "print(\"R2 Score: \", r2)"
   ],
   "id": "a245ed8ca480c780",
   "outputs": [
    {
     "name": "stdout",
     "output_type": "stream",
     "text": [
      "Mean squared error:  21.659880609358535\n",
      "Mean absolute error:  3.2153007744256996\n",
      "R2 Score:  0.9689686524221225\n"
     ]
    }
   ],
   "execution_count": 38
  },
  {
   "metadata": {
    "ExecuteTime": {
     "end_time": "2024-07-12T12:25:54.461910Z",
     "start_time": "2024-07-12T12:25:54.438829Z"
    }
   },
   "cell_type": "code",
   "source": [
    "lasso_model = Lasso(alpha=0.01)\n",
    "lasso_model.fit(X_train, y_train)\n",
    "\n",
    "y_pred = lasso_model.predict(X_test)\n",
    "\n",
    "mse = mean_squared_error(y_test, y_pred)\n",
    "mae = mean_absolute_error(y_test, y_pred)\n",
    "r2 = r2_score(y_test, y_pred)\n",
    "\n",
    "print(\"Mean squared error: \", mse)\n",
    "print(\"Mean absolute error: \", mae)\n",
    "print(\"R2 Score: \", r2)"
   ],
   "id": "19b9203f769d775d",
   "outputs": [
    {
     "name": "stdout",
     "output_type": "stream",
     "text": [
      "Mean squared error:  18.114285403343008\n",
      "Mean absolute error:  3.9639415559488023\n",
      "R2 Score:  0.9740483017144083\n"
     ]
    }
   ],
   "execution_count": 37
  },
  {
   "metadata": {},
   "cell_type": "markdown",
   "source": [
    "### Regression answers\n",
    "\n",
    "- Linear Regression: 0.9678055545167994\n",
    "- Ridge: alpha=10: 0.9558771204343948\n",
    "- Lasso: alpha=0.01: 0.9677897748848022"
   ],
   "id": "25dc82e26f878f63"
  },
  {
   "metadata": {
    "ExecuteTime": {
     "end_time": "2024-07-12T12:26:19.999816Z",
     "start_time": "2024-07-12T12:26:19.950434Z"
    }
   },
   "cell_type": "code",
   "source": [
    "scaler = StandardScaler()\n",
    "\n",
    "scaler.fit(X_train)\n",
    "\n",
    "x_train_scaled = scaler.transform(X_train)\n",
    "x_test_scaled = scaler.transform(X_test)\n",
    "\n",
    "model = LinearRegression()\n",
    "\n",
    "model.fit(x_train_scaled, y_train)\n",
    "\n",
    "y_pred = model.predict(x_test_scaled)\n",
    "\n",
    "mse = mean_squared_error(y_test, y_pred)\n",
    "mae = mean_absolute_error(y_test, y_pred)\n",
    "r2 = r2_score(y_test, y_pred)\n",
    "\n",
    "print(\"Mean squared error: \", mse)\n",
    "print(\"Mean absolute error: \", mae)\n",
    "print(\"R2 Score: \", r2)"
   ],
   "id": "ce241f19bd83a89b",
   "outputs": [
    {
     "name": "stdout",
     "output_type": "stream",
     "text": [
      "Mean squared error:  18.115104157831148\n",
      "Mean absolute error:  3.9657593887812177\n",
      "R2 Score:  0.9740471287137089\n"
     ]
    }
   ],
   "execution_count": 41
  },
  {
   "metadata": {},
   "cell_type": "markdown",
   "source": [
    "### Data analysis\n",
    "\n",
    "- test_size 0.1 da eng random_state 42 eng yaxshi ko'rsatkichga ega bo'ldi\n",
    "- Model hech qanday overfit bo'lmayabdi, chunki MinMaxscaler va StandartScaler berilganda yaxshi natija ko'rsatmadi\n",
    "- Eng yaxshi LR model bu Linearregression, chunki Ridge va Lassoda nisbatan pastroq natija chiqdi"
   ],
   "id": "bd7aa819efcee59"
  },
  {
   "metadata": {
    "ExecuteTime": {
     "end_time": "2024-07-12T12:32:11.289956Z",
     "start_time": "2024-07-12T12:32:11.130189Z"
    }
   },
   "cell_type": "code",
   "source": [
    "import matplotlib.pyplot as plt\n",
    "\n",
    "plt.scatter(X_test, y_test, color='blue', label='Student Scores')\n",
    "plt.plot(X_test, y_pred, color='red', linewidth=2)\n",
    "\n",
    "plt.title('Student Scores')\n",
    "plt.xlabel('Hours')\n",
    "plt.ylabel('Scores')\n",
    "plt.legend()\n",
    "plt.show()"
   ],
   "id": "260a7b3361856a86",
   "outputs": [
    {
     "data": {
      "text/plain": [
       "<Figure size 640x480 with 1 Axes>"
      ],
      "image/png": "[encoded data removed]"
     },
     "metadata": {},
     "output_type": "display_data"
    }
   ],
   "execution_count": 43
  },
  {
   "metadata": {},
   "cell_type": "code",
   "outputs": [],
   "execution_count": null,
   "source": "",
   "id": "bc28e47664c47789"
  }
 ],
 "metadata": {
  "kernelspec": {
   "display_name": "Python 3",
   "language": "python",
   "name": "python3"
  },
  "language_info": {
   "codemirror_mode": {
    "name": "ipython",
    "version": 2
   },
   "file_extension": ".py",
   "mimetype": "text/x-python",
   "name": "python",
   "nbconvert_exporter": "python",
   "pygments_lexer": "ipython2",
   "version": "2.7.6"
  }
 },
 "nbformat": 4,
 "nbformat_minor": 5
}
