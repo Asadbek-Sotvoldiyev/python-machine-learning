{
 "cells": [
  {
   "cell_type": "code",
   "id": "initial_id",
   "metadata": {
    "collapsed": true,
    "ExecuteTime": {
     "end_time": "2024-08-05T10:52:22.645380Z",
     "start_time": "2024-08-05T10:52:22.427868Z"
    }
   },
   "source": [
    "# import libraries\n",
    "import pandas as pd\n",
    "from sklearn.model_selection import train_test_split\n",
    "from sklearn.neural_network import MLPClassifier\n",
    "from sklearn.metrics import accuracy_score, classification_report, confusion_matrix, roc_curve, roc_auc_score\n",
    "import matplotlib.pyplot as plt\n",
    "\n",
    "# dataset load\n",
    "data = pd.read_csv(\"datasets/diabetes2.csv\")\n",
    "\n",
    "# data prepare\n",
    "X = data.drop('Outcome', axis='columns')\n",
    "y = data['Outcome'] # target\n",
    "\n",
    "X_train, X_test, y_train, y_test = train_test_split(X, y, test_size=0.25, random_state=0)\n",
    "data.describe()\n",
    "\n",
    "\n",
    "# model create\n",
    "model = MLPClassifier(hidden_layer_sizes=100, max_iter=250, random_state=0)\n",
    "\n",
    "# model train\n",
    "model.fit(X_train, y_train)\n",
    "\n",
    "# model predict\n",
    "y_pred = model.predict(X_test)\n",
    "\n",
    "# evaluate\n",
    "acc = accuracy_score(y_test, y_pred)\n",
    "report = classification_report(y_test, y_pred)\n",
    "matrix = confusion_matrix(y_test, y_pred)\n",
    "\n",
    "print(\"Accuracy: \", acc)\n",
    "print(\"Classification report: \\n\", report)\n",
    "print(\"Confusion matrix: \\n\", matrix)\n",
    "\n",
    "# plot\n",
    "y_pred_proba = model.predict_proba(X_test)[::, 1]\n",
    "fpr, tpr, _ = roc_curve(y_test, y_pred_proba)\n",
    "auc = roc_auc_score(y_test, y_pred_proba)\n",
    "\n",
    "plt.plot(fpr, tpr, label=f\"AUC Score: {auc}\")\n",
    "plt.legend()\n",
    "plt.show()"
   ],
   "outputs": [
    {
     "name": "stdout",
     "output_type": "stream",
     "text": [
      "Accuracy:  0.7239583333333334\n",
      "Classification report: \n",
      "               precision    recall  f1-score   support\n",
      "\n",
      "           0       0.80      0.79      0.80       130\n",
      "           1       0.57      0.58      0.58        62\n",
      "\n",
      "    accuracy                           0.72       192\n",
      "   macro avg       0.68      0.69      0.69       192\n",
      "weighted avg       0.73      0.72      0.72       192\n",
      "\n",
      "Confusion matrix: \n",
      " [[103  27]\n",
      " [ 26  36]]\n"
     ]
    },
    {
     "data": {
      "text/plain": [
       "<Figure size 640x480 with 1 Axes>"
      ],
      "image/png": "[encoded data removed]"
     },
     "metadata": {},
     "output_type": "display_data"
    }
   ],
   "execution_count": 16
  },
  {
   "metadata": {},
   "cell_type": "code",
   "outputs": [],
   "execution_count": null,
   "source": "",
   "id": "cc2f06d89a22fee0"
  }
 ],
 "metadata": {
  "kernelspec": {
   "display_name": "Python 3",
   "language": "python",
   "name": "python3"
  },
  "language_info": {
   "codemirror_mode": {
    "name": "ipython",
    "version": 2
   },
   "file_extension": ".py",
   "mimetype": "text/x-python",
   "name": "python",
   "nbconvert_exporter": "python",
   "pygments_lexer": "ipython2",
   "version": "2.7.6"
  }
 },
 "nbformat": 4,
 "nbformat_minor": 5
}
