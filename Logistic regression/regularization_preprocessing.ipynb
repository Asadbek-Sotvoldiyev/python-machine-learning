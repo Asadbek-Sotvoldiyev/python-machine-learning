{
 "cells": [
  {
   "metadata": {},
   "cell_type": "markdown",
   "source": [
    "### template:\n",
    "\n",
    "1. import libraries\n",
    "2. dataset load\n",
    "3. data preparation / preprocess\n",
    "4. model create\n",
    "5. train the model\n",
    "6. predict (with test data)\n",
    "7. evaluate the model \n",
    "8. plot"
   ],
   "id": "9f2124eddf87a48e"
  },
  {
   "cell_type": "code",
   "id": "initial_id",
   "metadata": {
    "collapsed": true,
    "ExecuteTime": {
     "end_time": "2024-07-16T09:48:53.716350Z",
     "start_time": "2024-07-16T09:48:53.632645Z"
    }
   },
   "source": [
    "# import libraries\n",
    "import pandas as pd\n",
    "from sklearn.model_selection import train_test_split\n",
    "from sklearn.linear_model import LogisticRegression\n",
    "from sklearn.preprocessing import MinMaxScaler, StandardScaler\n",
    "from sklearn.metrics import accuracy_score, classification_report, confusion_matrix, roc_curve, roc_auc_score\n",
    "import matplotlib.pyplot as plt\n",
    "\n",
    "# dataset load\n",
    "data = pd.read_csv(\"datasets/diabetes2.csv\")\n",
    "\n",
    "# data prepare\n",
    "X = data.drop('Outcome', axis='columns')\n",
    "y = data['Outcome'] # target\n",
    "\n",
    "X_train, X_test, y_train, y_test = train_test_split(X, y, test_size=0.25, random_state=0)\n",
    "data.describe()\n",
    "\n",
    "# Data preprocessing\n",
    "scaler = StandardScaler()\n",
    "scaler.fit(X_train)\n",
    "\n",
    "X_train = scaler.transform(X_train)\n",
    "X_test = scaler.transform(X_test)\n",
    "\n",
    "# model create\n",
    "model = LogisticRegression(C=100,max_iter=1000) # C = 0,10,100,1000 -> Regularization\n",
    "\n",
    "# model train\n",
    "model.fit(X_train, y_train)\n",
    "\n",
    "# model predict\n",
    "y_pred = model.predict(X_test)\n",
    "\n",
    "# evaluate\n",
    "acc = accuracy_score(y_test, y_pred)\n",
    "report = classification_report(y_test, y_pred)\n",
    "matrix = confusion_matrix(y_test, y_pred)\n",
    "\n",
    "print(\"Accuracy: \", acc)\n",
    "print(\"Classification report: \\n\", report)\n",
    "print(\"Confusion matrix: \\n\", matrix)\n",
    "\n",
    "# plot\n",
    "y_pred_proba = model.predict_proba(X_test)[::, 1]\n",
    "fpr, tpr, _ = roc_curve(y_test, y_pred_proba)\n",
    "auc = roc_auc_score(y_test, y_pred_proba)\n",
    "\n",
    "plt.plot(fpr, tpr, label=f\"AUC Score: {auc}\")\n",
    "plt.legend()\n",
    "plt.show()"
   ],
   "outputs": [
    {
     "name": "stdout",
     "output_type": "stream",
     "text": [
      "Accuracy:  0.8020833333333334\n",
      "Classification report: \n",
      "               precision    recall  f1-score   support\n",
      "\n",
      "           0       0.82      0.91      0.86       130\n",
      "           1       0.75      0.58      0.65        62\n",
      "\n",
      "    accuracy                           0.80       192\n",
      "   macro avg       0.78      0.74      0.76       192\n",
      "weighted avg       0.80      0.80      0.79       192\n",
      "\n",
      "Confusion matrix: \n",
      " [[118  12]\n",
      " [ 26  36]]\n"
     ]
    },
    {
     "data": {
      "text/plain": [
       "<Figure size 640x480 with 1 Axes>"
      ],
      "image/png": "[encoded data removed]"
     },
     "metadata": {},
     "output_type": "display_data"
    }
   ],
   "execution_count": 9
  },
  {
   "metadata": {},
   "cell_type": "markdown",
   "source": [
    "1. Regularization\n",
    "2. Data Preprocessing\n",
    "\n",
    "So far:\n",
    "- AUC Score: 0.8593052109181142\n",
    "   - C = 10: 0.8595\n",
    "   - C = 100: 0.898\n",
    "      - MinMaxScaler: 0.85955\n",
    "      - StandardScaler: 0.8598\n",
    "- Accuracy: 0.796875"
   ],
   "id": "cccd0dbcac8cc9ae"
  },
  {
   "metadata": {},
   "cell_type": "code",
   "outputs": [],
   "execution_count": null,
   "source": "",
   "id": "b977a33ab34a9662"
  }
 ],
 "metadata": {
  "kernelspec": {
   "display_name": "Python 3",
   "language": "python",
   "name": "python3"
  },
  "language_info": {
   "codemirror_mode": {
    "name": "ipython",
    "version": 2
   },
   "file_extension": ".py",
   "mimetype": "text/x-python",
   "name": "python",
   "nbconvert_exporter": "python",
   "pygments_lexer": "ipython2",
   "version": "2.7.6"
  }
 },
 "nbformat": 4,
 "nbformat_minor": 5
}
